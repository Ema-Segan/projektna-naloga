{
 "cells": [
  {
   "cell_type": "markdown",
   "metadata": {},
   "source": [
    "# Analiza oglasov za delo"
   ]
  },
  {
   "cell_type": "code",
   "execution_count": 151,
   "metadata": {},
   "outputs": [],
   "source": [
    "import pandas as pd"
   ]
  },
  {
   "cell_type": "code",
   "execution_count": 152,
   "metadata": {},
   "outputs": [],
   "source": [
    "dela = pd.read_csv(\"podatki.csv\\podatki.csv\", index_col = \"št_oglasa\")"
   ]
  },
  {
   "cell_type": "code",
   "execution_count": 153,
   "metadata": {},
   "outputs": [
    {
     "data": {
      "text/html": [
       "<div>\n",
       "<style scoped>\n",
       "    .dataframe tbody tr th:only-of-type {\n",
       "        vertical-align: middle;\n",
       "    }\n",
       "\n",
       "    .dataframe tbody tr th {\n",
       "        vertical-align: top;\n",
       "    }\n",
       "\n",
       "    .dataframe thead th {\n",
       "        text-align: right;\n",
       "    }\n",
       "</style>\n",
       "<table border=\"1\" class=\"dataframe\">\n",
       "  <thead>\n",
       "    <tr style=\"text-align: right;\">\n",
       "      <th></th>\n",
       "      <th>delo</th>\n",
       "      <th>lokacija</th>\n",
       "      <th>plača_neto[€/h]</th>\n",
       "      <th>plača_bruto[€/h]</th>\n",
       "      <th>opis</th>\n",
       "      <th>prosta_mesta</th>\n",
       "      <th>trajanje</th>\n",
       "      <th>delovnik</th>\n",
       "      <th>začetek_dela</th>\n",
       "    </tr>\n",
       "    <tr>\n",
       "      <th>št_oglasa</th>\n",
       "      <th></th>\n",
       "      <th></th>\n",
       "      <th></th>\n",
       "      <th></th>\n",
       "      <th></th>\n",
       "      <th></th>\n",
       "      <th></th>\n",
       "      <th></th>\n",
       "      <th></th>\n",
       "    </tr>\n",
       "  </thead>\n",
       "  <tbody>\n",
       "    <tr>\n",
       "      <th>435925</th>\n",
       "      <td>DELO V LOGISTIKI</td>\n",
       "      <td>ŠENTJUR</td>\n",
       "      <td>7.06</td>\n",
       "      <td>8.2</td>\n",
       "      <td>Potrebujejo osebo za deklariranje, delo v logi...</td>\n",
       "      <td>1</td>\n",
       "      <td>DLJE ČASA (ZAČ. IN OBČ. DELO)</td>\n",
       "      <td>DOPOLDAN</td>\n",
       "      <td>1. 9. 2024</td>\n",
       "    </tr>\n",
       "    <tr>\n",
       "      <th>435924</th>\n",
       "      <td>INŠTALACIJE</td>\n",
       "      <td>ŠTAJERSKA REGIJA</td>\n",
       "      <td>8.0</td>\n",
       "      <td>9.3</td>\n",
       "      <td>Iščejo polnoletni osebi za inštalacijska dela:...</td>\n",
       "      <td>2</td>\n",
       "      <td>PO DOGOVORU</td>\n",
       "      <td>DOPOLDAN</td>\n",
       "      <td>26. 8. 2024</td>\n",
       "    </tr>\n",
       "    <tr>\n",
       "      <th>435923</th>\n",
       "      <td>FINANČNE STORITVE</td>\n",
       "      <td>LJUBLJANA</td>\n",
       "      <td>9.0</td>\n",
       "      <td>10.46</td>\n",
       "      <td>Za naročnika iščejo dinamične in samoiniciativ...</td>\n",
       "      <td>5</td>\n",
       "      <td>DLJE ČASA (ZAČ. IN OBČ. DELO)</td>\n",
       "      <td>DOPOLDAN</td>\n",
       "      <td>28. 8. 2024</td>\n",
       "    </tr>\n",
       "    <tr>\n",
       "      <th>435922</th>\n",
       "      <td>ADMINISTRATIVNA DELA</td>\n",
       "      <td>LJUBLJANA</td>\n",
       "      <td>7.31</td>\n",
       "      <td>8.5</td>\n",
       "      <td>Iščejo študenta/ko za študentsko delo na oddel...</td>\n",
       "      <td>1</td>\n",
       "      <td>DLJE ČASA (ZAČ. IN OBČ. DELO)</td>\n",
       "      <td>DOPOLDAN</td>\n",
       "      <td>2. 9. 2024</td>\n",
       "    </tr>\n",
       "    <tr>\n",
       "      <th>435921</th>\n",
       "      <td>KONTROLA KAKOVOSTI</td>\n",
       "      <td>ŠKOFJA LOKA</td>\n",
       "      <td>6.45</td>\n",
       "      <td>7.5</td>\n",
       "      <td>Iščejo študenta/ko oz. absolventa/ko za pomoč ...</td>\n",
       "      <td>1</td>\n",
       "      <td>DLJE ČASA (ZAČ. IN OBČ. DELO)</td>\n",
       "      <td>DOPOLDAN</td>\n",
       "      <td>2. 9. 2024</td>\n",
       "    </tr>\n",
       "    <tr>\n",
       "      <th>...</th>\n",
       "      <td>...</td>\n",
       "      <td>...</td>\n",
       "      <td>...</td>\n",
       "      <td>...</td>\n",
       "      <td>...</td>\n",
       "      <td>...</td>\n",
       "      <td>...</td>\n",
       "      <td>...</td>\n",
       "      <td>...</td>\n",
       "    </tr>\n",
       "    <tr>\n",
       "      <th>435357</th>\n",
       "      <td>DELO V AVTOPRALNICI</td>\n",
       "      <td>TRZIN</td>\n",
       "      <td>7.0</td>\n",
       "      <td>8.13</td>\n",
       "      <td>Si želiš delo z ljudmi, sproščeno in zabavno o...</td>\n",
       "      <td>2</td>\n",
       "      <td>DLJE ČASA (ZAČ. IN OBČ. DELO)</td>\n",
       "      <td>IZMENSKO</td>\n",
       "      <td>po dogovoru</td>\n",
       "    </tr>\n",
       "    <tr>\n",
       "      <th>435356</th>\n",
       "      <td>STREŽBA</td>\n",
       "      <td>ARCLIN PRI VOJNIKU</td>\n",
       "      <td>8.0</td>\n",
       "      <td>9.3</td>\n",
       "      <td>Lokal s prijaznimi gosti v svoj kolektiv vabi ...</td>\n",
       "      <td>1</td>\n",
       "      <td>DLJE ČASA (ZAČ. IN OBČ. DELO)</td>\n",
       "      <td>PO DOGOVORU</td>\n",
       "      <td>15. 9. 2024</td>\n",
       "    </tr>\n",
       "    <tr>\n",
       "      <th>435355</th>\n",
       "      <td>POMIVALEC</td>\n",
       "      <td>LJUBLJANA</td>\n",
       "      <td>7.5</td>\n",
       "      <td>8.72</td>\n",
       "      <td>Iščejo pomivalca/ko za pomoč v kuhinji restavr...</td>\n",
       "      <td>1</td>\n",
       "      <td>PO DOGOVORU</td>\n",
       "      <td>IZMENSKO</td>\n",
       "      <td>po dogovoru</td>\n",
       "    </tr>\n",
       "    <tr>\n",
       "      <th>435353</th>\n",
       "      <td>POMOČNIK VZGOJITELJA/VZGOJITELJICE</td>\n",
       "      <td>LJUBLJANA</td>\n",
       "      <td>8.15</td>\n",
       "      <td>9.47</td>\n",
       "      <td>Iščejo študenta/ko za varstvo in nego predšols...</td>\n",
       "      <td>1</td>\n",
       "      <td>DLJE ČASA (ZAČ. IN OBČ. DELO)</td>\n",
       "      <td>DOPOLDAN</td>\n",
       "      <td>po dogovoru</td>\n",
       "    </tr>\n",
       "    <tr>\n",
       "      <th>435352</th>\n",
       "      <td>STREŽBA</td>\n",
       "      <td>KOPER</td>\n",
       "      <td>coerce</td>\n",
       "      <td>coerce</td>\n",
       "      <td>Picerija išče osebi za delo v strežbi, pomoč v...</td>\n",
       "      <td>2</td>\n",
       "      <td>DLJE ČASA (ZAČ. IN OBČ. DELO)</td>\n",
       "      <td>PO DOGOVORU</td>\n",
       "      <td>2. 9. 2024</td>\n",
       "    </tr>\n",
       "  </tbody>\n",
       "</table>\n",
       "<p>500 rows × 9 columns</p>\n",
       "</div>"
      ],
      "text/plain": [
       "                                         delo            lokacija  \\\n",
       "št_oglasa                                                           \n",
       "435925                       DELO V LOGISTIKI             ŠENTJUR   \n",
       "435924                            INŠTALACIJE    ŠTAJERSKA REGIJA   \n",
       "435923                      FINANČNE STORITVE           LJUBLJANA   \n",
       "435922                   ADMINISTRATIVNA DELA           LJUBLJANA   \n",
       "435921                     KONTROLA KAKOVOSTI         ŠKOFJA LOKA   \n",
       "...                                       ...                 ...   \n",
       "435357                    DELO V AVTOPRALNICI               TRZIN   \n",
       "435356                                STREŽBA  ARCLIN PRI VOJNIKU   \n",
       "435355                              POMIVALEC           LJUBLJANA   \n",
       "435353     POMOČNIK VZGOJITELJA/VZGOJITELJICE           LJUBLJANA   \n",
       "435352                                STREŽBA               KOPER   \n",
       "\n",
       "          plača_neto[€/h] plača_bruto[€/h]  \\\n",
       "št_oglasa                                    \n",
       "435925               7.06              8.2   \n",
       "435924                8.0              9.3   \n",
       "435923                9.0            10.46   \n",
       "435922               7.31              8.5   \n",
       "435921               6.45              7.5   \n",
       "...                   ...              ...   \n",
       "435357                7.0             8.13   \n",
       "435356                8.0              9.3   \n",
       "435355                7.5             8.72   \n",
       "435353               8.15             9.47   \n",
       "435352             coerce           coerce   \n",
       "\n",
       "                                                        opis  prosta_mesta  \\\n",
       "št_oglasa                                                                    \n",
       "435925     Potrebujejo osebo za deklariranje, delo v logi...             1   \n",
       "435924     Iščejo polnoletni osebi za inštalacijska dela:...             2   \n",
       "435923     Za naročnika iščejo dinamične in samoiniciativ...             5   \n",
       "435922     Iščejo študenta/ko za študentsko delo na oddel...             1   \n",
       "435921     Iščejo študenta/ko oz. absolventa/ko za pomoč ...             1   \n",
       "...                                                      ...           ...   \n",
       "435357     Si želiš delo z ljudmi, sproščeno in zabavno o...             2   \n",
       "435356     Lokal s prijaznimi gosti v svoj kolektiv vabi ...             1   \n",
       "435355     Iščejo pomivalca/ko za pomoč v kuhinji restavr...             1   \n",
       "435353     Iščejo študenta/ko za varstvo in nego predšols...             1   \n",
       "435352     Picerija išče osebi za delo v strežbi, pomoč v...             2   \n",
       "\n",
       "                                trajanje     delovnik začetek_dela  \n",
       "št_oglasa                                                           \n",
       "435925     DLJE ČASA (ZAČ. IN OBČ. DELO)     DOPOLDAN   1. 9. 2024  \n",
       "435924                       PO DOGOVORU     DOPOLDAN  26. 8. 2024  \n",
       "435923     DLJE ČASA (ZAČ. IN OBČ. DELO)     DOPOLDAN  28. 8. 2024  \n",
       "435922     DLJE ČASA (ZAČ. IN OBČ. DELO)     DOPOLDAN   2. 9. 2024  \n",
       "435921     DLJE ČASA (ZAČ. IN OBČ. DELO)     DOPOLDAN   2. 9. 2024  \n",
       "...                                  ...          ...          ...  \n",
       "435357     DLJE ČASA (ZAČ. IN OBČ. DELO)     IZMENSKO  po dogovoru  \n",
       "435356     DLJE ČASA (ZAČ. IN OBČ. DELO)  PO DOGOVORU  15. 9. 2024  \n",
       "435355                       PO DOGOVORU     IZMENSKO  po dogovoru  \n",
       "435353     DLJE ČASA (ZAČ. IN OBČ. DELO)     DOPOLDAN  po dogovoru  \n",
       "435352     DLJE ČASA (ZAČ. IN OBČ. DELO)  PO DOGOVORU   2. 9. 2024  \n",
       "\n",
       "[500 rows x 9 columns]"
      ]
     },
     "execution_count": 153,
     "metadata": {},
     "output_type": "execute_result"
    }
   ],
   "source": [
    "dela"
   ]
  },
  {
   "cell_type": "markdown",
   "metadata": {},
   "source": [
    "Preverjam katera dela v svojem opisu omenjajo izkušnje. V tabelo dodajam stolpec z vrednostima True, kadar opis omenja izkušnje in False kadar jih ne."
   ]
  },
  {
   "cell_type": "code",
   "execution_count": 154,
   "metadata": {},
   "outputs": [],
   "source": [
    "dela['izkušnje'] = dela['opis'].str.contains(r'izkušnje', case=False)"
   ]
  },
  {
   "cell_type": "code",
   "execution_count": 155,
   "metadata": {},
   "outputs": [
    {
     "data": {
      "text/html": [
       "<div>\n",
       "<style scoped>\n",
       "    .dataframe tbody tr th:only-of-type {\n",
       "        vertical-align: middle;\n",
       "    }\n",
       "\n",
       "    .dataframe tbody tr th {\n",
       "        vertical-align: top;\n",
       "    }\n",
       "\n",
       "    .dataframe thead th {\n",
       "        text-align: right;\n",
       "    }\n",
       "</style>\n",
       "<table border=\"1\" class=\"dataframe\">\n",
       "  <thead>\n",
       "    <tr style=\"text-align: right;\">\n",
       "      <th></th>\n",
       "      <th>delo</th>\n",
       "      <th>lokacija</th>\n",
       "      <th>plača_neto[€/h]</th>\n",
       "      <th>plača_bruto[€/h]</th>\n",
       "      <th>opis</th>\n",
       "      <th>prosta_mesta</th>\n",
       "      <th>trajanje</th>\n",
       "      <th>delovnik</th>\n",
       "      <th>začetek_dela</th>\n",
       "      <th>izkušnje</th>\n",
       "    </tr>\n",
       "    <tr>\n",
       "      <th>št_oglasa</th>\n",
       "      <th></th>\n",
       "      <th></th>\n",
       "      <th></th>\n",
       "      <th></th>\n",
       "      <th></th>\n",
       "      <th></th>\n",
       "      <th></th>\n",
       "      <th></th>\n",
       "      <th></th>\n",
       "      <th></th>\n",
       "    </tr>\n",
       "  </thead>\n",
       "  <tbody>\n",
       "    <tr>\n",
       "      <th>435925</th>\n",
       "      <td>DELO V LOGISTIKI</td>\n",
       "      <td>ŠENTJUR</td>\n",
       "      <td>7.06</td>\n",
       "      <td>8.2</td>\n",
       "      <td>Potrebujejo osebo za deklariranje, delo v logi...</td>\n",
       "      <td>1</td>\n",
       "      <td>DLJE ČASA (ZAČ. IN OBČ. DELO)</td>\n",
       "      <td>DOPOLDAN</td>\n",
       "      <td>1. 9. 2024</td>\n",
       "      <td>False</td>\n",
       "    </tr>\n",
       "    <tr>\n",
       "      <th>435924</th>\n",
       "      <td>INŠTALACIJE</td>\n",
       "      <td>ŠTAJERSKA REGIJA</td>\n",
       "      <td>8.0</td>\n",
       "      <td>9.3</td>\n",
       "      <td>Iščejo polnoletni osebi za inštalacijska dela:...</td>\n",
       "      <td>2</td>\n",
       "      <td>PO DOGOVORU</td>\n",
       "      <td>DOPOLDAN</td>\n",
       "      <td>26. 8. 2024</td>\n",
       "      <td>True</td>\n",
       "    </tr>\n",
       "    <tr>\n",
       "      <th>435923</th>\n",
       "      <td>FINANČNE STORITVE</td>\n",
       "      <td>LJUBLJANA</td>\n",
       "      <td>9.0</td>\n",
       "      <td>10.46</td>\n",
       "      <td>Za naročnika iščejo dinamične in samoiniciativ...</td>\n",
       "      <td>5</td>\n",
       "      <td>DLJE ČASA (ZAČ. IN OBČ. DELO)</td>\n",
       "      <td>DOPOLDAN</td>\n",
       "      <td>28. 8. 2024</td>\n",
       "      <td>False</td>\n",
       "    </tr>\n",
       "    <tr>\n",
       "      <th>435922</th>\n",
       "      <td>ADMINISTRATIVNA DELA</td>\n",
       "      <td>LJUBLJANA</td>\n",
       "      <td>7.31</td>\n",
       "      <td>8.5</td>\n",
       "      <td>Iščejo študenta/ko za študentsko delo na oddel...</td>\n",
       "      <td>1</td>\n",
       "      <td>DLJE ČASA (ZAČ. IN OBČ. DELO)</td>\n",
       "      <td>DOPOLDAN</td>\n",
       "      <td>2. 9. 2024</td>\n",
       "      <td>False</td>\n",
       "    </tr>\n",
       "    <tr>\n",
       "      <th>435921</th>\n",
       "      <td>KONTROLA KAKOVOSTI</td>\n",
       "      <td>ŠKOFJA LOKA</td>\n",
       "      <td>6.45</td>\n",
       "      <td>7.5</td>\n",
       "      <td>Iščejo študenta/ko oz. absolventa/ko za pomoč ...</td>\n",
       "      <td>1</td>\n",
       "      <td>DLJE ČASA (ZAČ. IN OBČ. DELO)</td>\n",
       "      <td>DOPOLDAN</td>\n",
       "      <td>2. 9. 2024</td>\n",
       "      <td>False</td>\n",
       "    </tr>\n",
       "    <tr>\n",
       "      <th>...</th>\n",
       "      <td>...</td>\n",
       "      <td>...</td>\n",
       "      <td>...</td>\n",
       "      <td>...</td>\n",
       "      <td>...</td>\n",
       "      <td>...</td>\n",
       "      <td>...</td>\n",
       "      <td>...</td>\n",
       "      <td>...</td>\n",
       "      <td>...</td>\n",
       "    </tr>\n",
       "    <tr>\n",
       "      <th>435357</th>\n",
       "      <td>DELO V AVTOPRALNICI</td>\n",
       "      <td>TRZIN</td>\n",
       "      <td>7.0</td>\n",
       "      <td>8.13</td>\n",
       "      <td>Si želiš delo z ljudmi, sproščeno in zabavno o...</td>\n",
       "      <td>2</td>\n",
       "      <td>DLJE ČASA (ZAČ. IN OBČ. DELO)</td>\n",
       "      <td>IZMENSKO</td>\n",
       "      <td>po dogovoru</td>\n",
       "      <td>False</td>\n",
       "    </tr>\n",
       "    <tr>\n",
       "      <th>435356</th>\n",
       "      <td>STREŽBA</td>\n",
       "      <td>ARCLIN PRI VOJNIKU</td>\n",
       "      <td>8.0</td>\n",
       "      <td>9.3</td>\n",
       "      <td>Lokal s prijaznimi gosti v svoj kolektiv vabi ...</td>\n",
       "      <td>1</td>\n",
       "      <td>DLJE ČASA (ZAČ. IN OBČ. DELO)</td>\n",
       "      <td>PO DOGOVORU</td>\n",
       "      <td>15. 9. 2024</td>\n",
       "      <td>False</td>\n",
       "    </tr>\n",
       "    <tr>\n",
       "      <th>435355</th>\n",
       "      <td>POMIVALEC</td>\n",
       "      <td>LJUBLJANA</td>\n",
       "      <td>7.5</td>\n",
       "      <td>8.72</td>\n",
       "      <td>Iščejo pomivalca/ko za pomoč v kuhinji restavr...</td>\n",
       "      <td>1</td>\n",
       "      <td>PO DOGOVORU</td>\n",
       "      <td>IZMENSKO</td>\n",
       "      <td>po dogovoru</td>\n",
       "      <td>True</td>\n",
       "    </tr>\n",
       "    <tr>\n",
       "      <th>435353</th>\n",
       "      <td>POMOČNIK VZGOJITELJA/VZGOJITELJICE</td>\n",
       "      <td>LJUBLJANA</td>\n",
       "      <td>8.15</td>\n",
       "      <td>9.47</td>\n",
       "      <td>Iščejo študenta/ko za varstvo in nego predšols...</td>\n",
       "      <td>1</td>\n",
       "      <td>DLJE ČASA (ZAČ. IN OBČ. DELO)</td>\n",
       "      <td>DOPOLDAN</td>\n",
       "      <td>po dogovoru</td>\n",
       "      <td>True</td>\n",
       "    </tr>\n",
       "    <tr>\n",
       "      <th>435352</th>\n",
       "      <td>STREŽBA</td>\n",
       "      <td>KOPER</td>\n",
       "      <td>coerce</td>\n",
       "      <td>coerce</td>\n",
       "      <td>Picerija išče osebi za delo v strežbi, pomoč v...</td>\n",
       "      <td>2</td>\n",
       "      <td>DLJE ČASA (ZAČ. IN OBČ. DELO)</td>\n",
       "      <td>PO DOGOVORU</td>\n",
       "      <td>2. 9. 2024</td>\n",
       "      <td>True</td>\n",
       "    </tr>\n",
       "  </tbody>\n",
       "</table>\n",
       "<p>500 rows × 10 columns</p>\n",
       "</div>"
      ],
      "text/plain": [
       "                                         delo            lokacija  \\\n",
       "št_oglasa                                                           \n",
       "435925                       DELO V LOGISTIKI             ŠENTJUR   \n",
       "435924                            INŠTALACIJE    ŠTAJERSKA REGIJA   \n",
       "435923                      FINANČNE STORITVE           LJUBLJANA   \n",
       "435922                   ADMINISTRATIVNA DELA           LJUBLJANA   \n",
       "435921                     KONTROLA KAKOVOSTI         ŠKOFJA LOKA   \n",
       "...                                       ...                 ...   \n",
       "435357                    DELO V AVTOPRALNICI               TRZIN   \n",
       "435356                                STREŽBA  ARCLIN PRI VOJNIKU   \n",
       "435355                              POMIVALEC           LJUBLJANA   \n",
       "435353     POMOČNIK VZGOJITELJA/VZGOJITELJICE           LJUBLJANA   \n",
       "435352                                STREŽBA               KOPER   \n",
       "\n",
       "          plača_neto[€/h] plača_bruto[€/h]  \\\n",
       "št_oglasa                                    \n",
       "435925               7.06              8.2   \n",
       "435924                8.0              9.3   \n",
       "435923                9.0            10.46   \n",
       "435922               7.31              8.5   \n",
       "435921               6.45              7.5   \n",
       "...                   ...              ...   \n",
       "435357                7.0             8.13   \n",
       "435356                8.0              9.3   \n",
       "435355                7.5             8.72   \n",
       "435353               8.15             9.47   \n",
       "435352             coerce           coerce   \n",
       "\n",
       "                                                        opis  prosta_mesta  \\\n",
       "št_oglasa                                                                    \n",
       "435925     Potrebujejo osebo za deklariranje, delo v logi...             1   \n",
       "435924     Iščejo polnoletni osebi za inštalacijska dela:...             2   \n",
       "435923     Za naročnika iščejo dinamične in samoiniciativ...             5   \n",
       "435922     Iščejo študenta/ko za študentsko delo na oddel...             1   \n",
       "435921     Iščejo študenta/ko oz. absolventa/ko za pomoč ...             1   \n",
       "...                                                      ...           ...   \n",
       "435357     Si želiš delo z ljudmi, sproščeno in zabavno o...             2   \n",
       "435356     Lokal s prijaznimi gosti v svoj kolektiv vabi ...             1   \n",
       "435355     Iščejo pomivalca/ko za pomoč v kuhinji restavr...             1   \n",
       "435353     Iščejo študenta/ko za varstvo in nego predšols...             1   \n",
       "435352     Picerija išče osebi za delo v strežbi, pomoč v...             2   \n",
       "\n",
       "                                trajanje     delovnik začetek_dela  izkušnje  \n",
       "št_oglasa                                                                     \n",
       "435925     DLJE ČASA (ZAČ. IN OBČ. DELO)     DOPOLDAN   1. 9. 2024     False  \n",
       "435924                       PO DOGOVORU     DOPOLDAN  26. 8. 2024      True  \n",
       "435923     DLJE ČASA (ZAČ. IN OBČ. DELO)     DOPOLDAN  28. 8. 2024     False  \n",
       "435922     DLJE ČASA (ZAČ. IN OBČ. DELO)     DOPOLDAN   2. 9. 2024     False  \n",
       "435921     DLJE ČASA (ZAČ. IN OBČ. DELO)     DOPOLDAN   2. 9. 2024     False  \n",
       "...                                  ...          ...          ...       ...  \n",
       "435357     DLJE ČASA (ZAČ. IN OBČ. DELO)     IZMENSKO  po dogovoru     False  \n",
       "435356     DLJE ČASA (ZAČ. IN OBČ. DELO)  PO DOGOVORU  15. 9. 2024     False  \n",
       "435355                       PO DOGOVORU     IZMENSKO  po dogovoru      True  \n",
       "435353     DLJE ČASA (ZAČ. IN OBČ. DELO)     DOPOLDAN  po dogovoru      True  \n",
       "435352     DLJE ČASA (ZAČ. IN OBČ. DELO)  PO DOGOVORU   2. 9. 2024      True  \n",
       "\n",
       "[500 rows x 10 columns]"
      ]
     },
     "execution_count": 155,
     "metadata": {},
     "output_type": "execute_result"
    }
   ],
   "source": [
    "dela"
   ]
  },
  {
   "cell_type": "markdown",
   "metadata": {},
   "source": [
    "Preštejmo, koliko oglasov omenja izkušnje in koliko jih ne.\n",
    "Predpostavljam, da imajo dela, ki v opisu omenjajo izkušnje v povprečju višjo urno postavko, preverjam ali to drži. Še prej pretvorim vrednosti stolpcev s plačami v številske."
   ]
  },
  {
   "cell_type": "code",
   "execution_count": 156,
   "metadata": {},
   "outputs": [
    {
     "data": {
      "text/plain": [
       "izkušnje\n",
       "False    373\n",
       "True     127\n",
       "dtype: int64"
      ]
     },
     "execution_count": 156,
     "metadata": {},
     "output_type": "execute_result"
    }
   ],
   "source": [
    "dela.groupby(\"izkušnje\").size()"
   ]
  },
  {
   "cell_type": "code",
   "execution_count": 157,
   "metadata": {},
   "outputs": [],
   "source": [
    "dela[\"plača_neto[€/h]\"] = pd.to_numeric(dela[\"plača_neto[€/h]\"], errors='coerce')\n"
   ]
  },
  {
   "cell_type": "code",
   "execution_count": 158,
   "metadata": {},
   "outputs": [],
   "source": [
    "povprečna_plača_izkušnje = dela.groupby(\"izkušnje\")[\"plača_neto[€/h]\"].mean()"
   ]
  },
  {
   "cell_type": "code",
   "execution_count": 159,
   "metadata": {},
   "outputs": [
    {
     "data": {
      "text/plain": [
       "izkušnje\n",
       "False    7.643918\n",
       "True     8.110323\n",
       "Name: plača_neto[€/h], dtype: float64"
      ]
     },
     "execution_count": 159,
     "metadata": {},
     "output_type": "execute_result"
    }
   ],
   "source": [
    "povprečna_plača_izkušnje"
   ]
  },
  {
   "cell_type": "markdown",
   "metadata": {},
   "source": [
    "Predpostavka drži. Zdaj si oglejmo lokacije dela. Preverimo kje je največ razpisanih del in kje so najbolje plačana."
   ]
  },
  {
   "cell_type": "code",
   "execution_count": 160,
   "metadata": {},
   "outputs": [],
   "source": [
    "dela_po_lokacijah = dela.groupby(\"lokacija\").size().sort_values(ascending= False)"
   ]
  },
  {
   "cell_type": "code",
   "execution_count": 161,
   "metadata": {},
   "outputs": [
    {
     "data": {
      "text/plain": [
       "lokacija\n",
       "LJUBLJANA           163\n",
       "MARIBOR              36\n",
       "KOPER                17\n",
       "CELJE                12\n",
       "ŠKOFJA LOKA          11\n",
       "                   ... \n",
       "ŠMARJE-SAP            1\n",
       "ŠTAJERSKA REGIJA      1\n",
       "ŽALEC                 1\n",
       "ŽELEZNIKI             1\n",
       "ŽUŽEMBERK             1\n",
       "Length: 144, dtype: int64"
      ]
     },
     "execution_count": 161,
     "metadata": {},
     "output_type": "execute_result"
    }
   ],
   "source": [
    "dela_po_lokacijah"
   ]
  },
  {
   "cell_type": "code",
   "execution_count": 162,
   "metadata": {},
   "outputs": [
    {
     "data": {
      "text/plain": [
       "Text(0, 0.5, 'število del na lokaciji')"
      ]
     },
     "execution_count": 162,
     "metadata": {},
     "output_type": "execute_result"
    },
    {
     "data": {
      "image/png": "[encoded data removed]",
      "text/plain": [
       "<Figure size 640x480 with 1 Axes>"
      ]
     },
     "metadata": {},
     "output_type": "display_data"
    }
   ],
   "source": [
    "prikaz_dela_po_lokacijah = dela_po_lokacijah.head(20).plot.bar()\n",
    "prikaz_dela_po_lokacijah.set_ylabel(\"število del na lokaciji\")"
   ]
  },
  {
   "cell_type": "markdown",
   "metadata": {},
   "source": [
    "Pri analizi plač glede na lokacijo bom izpustila lokacije z dvema oglasoma ali manj."
   ]
  },
  {
   "cell_type": "code",
   "execution_count": 163,
   "metadata": {},
   "outputs": [],
   "source": [
    "štetje_lokacij = dela[\"lokacija\"].value_counts()\n",
    "pogoste_lokacije = štetje_lokacij[štetje_lokacij > 2].index\n",
    "dela_pogoste_lokacije = dela[dela[\"lokacija\"].isin(pogoste_lokacije)]"
   ]
  },
  {
   "cell_type": "code",
   "execution_count": 164,
   "metadata": {},
   "outputs": [
    {
     "data": {
      "text/plain": [
       "Text(0.5, 0, 'povprečna_neto_plača[€/h]')"
      ]
     },
     "execution_count": 164,
     "metadata": {},
     "output_type": "execute_result"
    },
    {
     "data": {
      "image/png": "[encoded data removed]",
      "text/plain": [
       "<Figure size 640x480 with 1 Axes>"
      ]
     },
     "metadata": {},
     "output_type": "display_data"
    }
   ],
   "source": [
    "plača_po_lokacijah = dela_pogoste_lokacije.groupby(\"lokacija\")[\"plača_neto[€/h]\"].mean().sort_values().tail(20).plot(kind = \"barh\")\n",
    "plača_po_lokacijah.set_xlabel(\"povprečna_neto_plača[€/h]\")\n"
   ]
  }
 ],
 "metadata": {
  "kernelspec": {
   "display_name": "Python 3",
   "language": "python",
   "name": "python3"
  },
  "language_info": {
   "codemirror_mode": {
    "name": "ipython",
    "version": 3
   },
   "file_extension": ".py",
   "mimetype": "text/x-python",
   "name": "python",
   "nbconvert_exporter": "python",
   "pygments_lexer": "ipython3",
   "version": "3.11.2"
  }
 },
 "nbformat": 4,
 "nbformat_minor": 2
}
